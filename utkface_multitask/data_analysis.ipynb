{
 "cells": [
  {
   "cell_type": "code",
   "execution_count": 4,
   "metadata": {},
   "outputs": [],
   "source": [
    "import os\n",
    "\n",
    "import matplotlib.pyplot as plt\n",
    "import pandas as pd\n",
    "import seaborn as sns"
   ]
  },
  {
   "cell_type": "code",
   "execution_count": 6,
   "metadata": {},
   "outputs": [],
   "source": [
    "# read data, # name format is age_gender_race_date_image.png\n",
    "all_data = os.listdir(\n",
    "    \"/home/umutdundar/Desktop/repositories/utkface-multitask/utkface-multitask/results/resnet34\"\n",
    ")"
   ]
  },
  {
   "cell_type": "code",
   "execution_count": 9,
   "metadata": {},
   "outputs": [],
   "source": [
    "# Create an empty list to collect rows\n",
    "data_rows = []\n",
    "\n",
    "# Process all data entries\n",
    "for data in all_data:\n",
    "    if \"image\" not in data:\n",
    "        continue\n",
    "\n",
    "    parts = data.split(\"_\")\n",
    "    if len(parts) >= 2:  # Make sure we have at least age and gender parts\n",
    "        age, gender = parts[0], parts[1]\n",
    "        data_rows.append({\"filename\": data, \"age\": age, \"gender\": gender})\n",
    "\n",
    "# Create DataFrame once after collecting all rows\n",
    "data_df = pd.DataFrame(data_rows)"
   ]
  },
  {
   "cell_type": "code",
   "execution_count": null,
   "metadata": {},
   "outputs": [],
   "source": [
    "data_df.head(5)"
   ]
  },
  {
   "cell_type": "code",
   "execution_count": null,
   "metadata": {},
   "outputs": [],
   "source": [
    "# visualize the data\n",
    "plt.figure(figsize=(12, 6))\n",
    "\n",
    "plt.subplot(1, 2, 1)\n",
    "# histogram for age\n",
    "sns.histplot(data_df[\"age\"].astype(int), bins=30, kde=True, color=\"blue\")\n",
    "plt.title(\"Age Distribution\")\n",
    "plt.xlabel(\"Age\")\n",
    "plt.ylabel(\"Count\")\n",
    "plt.subplot(1, 2, 2)\n",
    "sns.countplot(x=\"gender\", data=data_df, palette=\"viridis\")\n",
    "plt.title(\"Gender Distribution\")\n",
    "plt.xticks(rotation=90)\n",
    "plt.xlabel(\"Gender\")\n",
    "plt.ylabel(\"Count\")"
   ]
  },
  {
   "cell_type": "code",
   "execution_count": null,
   "metadata": {},
   "outputs": [],
   "source": []
  }
 ],
 "metadata": {
  "kernelspec": {
   "display_name": "utkface",
   "language": "python",
   "name": "python3"
  },
  "language_info": {
   "codemirror_mode": {
    "name": "ipython",
    "version": 3
   },
   "file_extension": ".py",
   "mimetype": "text/x-python",
   "name": "python",
   "nbconvert_exporter": "python",
   "pygments_lexer": "ipython3",
   "version": "3.10.16"
  }
 },
 "nbformat": 4,
 "nbformat_minor": 2
}
